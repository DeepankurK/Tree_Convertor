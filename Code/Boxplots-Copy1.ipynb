{
 "cells": [
  {
   "cell_type": "code",
   "execution_count": 1,
   "metadata": {},
   "outputs": [],
   "source": [
    "import pandas as pd\n",
    "import numpy as np"
   ]
  },
  {
   "cell_type": "code",
   "execution_count": 2,
   "metadata": {},
   "outputs": [],
   "source": [
    "df=pd.read_csv('/home/deepank/Downloads/Prof_Hamim/Convertor_project/Code/result_p_to_c.txt',header=None)"
   ]
  },
  {
   "cell_type": "code",
   "execution_count": 3,
   "metadata": {},
   "outputs": [
    {
     "data": {
      "text/html": [
       "<div>\n",
       "<style scoped>\n",
       "    .dataframe tbody tr th:only-of-type {\n",
       "        vertical-align: middle;\n",
       "    }\n",
       "\n",
       "    .dataframe tbody tr th {\n",
       "        vertical-align: top;\n",
       "    }\n",
       "\n",
       "    .dataframe thead th {\n",
       "        text-align: right;\n",
       "    }\n",
       "</style>\n",
       "<table border=\"1\" class=\"dataframe\">\n",
       "  <thead>\n",
       "    <tr style=\"text-align: right;\">\n",
       "      <th></th>\n",
       "      <th>0</th>\n",
       "      <th>1</th>\n",
       "      <th>2</th>\n",
       "      <th>3</th>\n",
       "      <th>4</th>\n",
       "      <th>5</th>\n",
       "      <th>6</th>\n",
       "      <th>7</th>\n",
       "      <th>8</th>\n",
       "      <th>9</th>\n",
       "      <th>10</th>\n",
       "      <th>11</th>\n",
       "    </tr>\n",
       "  </thead>\n",
       "  <tbody>\n",
       "    <tr>\n",
       "      <th>0</th>\n",
       "      <td>1.464040</td>\n",
       "      <td>0.921543</td>\n",
       "      <td>1.086263</td>\n",
       "      <td>0.938462</td>\n",
       "      <td>1.086263</td>\n",
       "      <td>0.938462</td>\n",
       "      <td>1.086263</td>\n",
       "      <td>0.938462</td>\n",
       "      <td>1.605657</td>\n",
       "      <td>0.817120</td>\n",
       "      <td>1.464040</td>\n",
       "      <td>0.921543</td>\n",
       "    </tr>\n",
       "    <tr>\n",
       "      <th>1</th>\n",
       "      <td>2.910303</td>\n",
       "      <td>0.743123</td>\n",
       "      <td>2.910303</td>\n",
       "      <td>0.743123</td>\n",
       "      <td>2.910303</td>\n",
       "      <td>0.743123</td>\n",
       "      <td>2.910303</td>\n",
       "      <td>0.743123</td>\n",
       "      <td>2.910303</td>\n",
       "      <td>0.743123</td>\n",
       "      <td>2.910303</td>\n",
       "      <td>0.743123</td>\n",
       "    </tr>\n",
       "    <tr>\n",
       "      <th>2</th>\n",
       "      <td>2.371919</td>\n",
       "      <td>0.484546</td>\n",
       "      <td>2.371919</td>\n",
       "      <td>0.484546</td>\n",
       "      <td>2.371919</td>\n",
       "      <td>0.484546</td>\n",
       "      <td>2.371919</td>\n",
       "      <td>0.484546</td>\n",
       "      <td>3.607879</td>\n",
       "      <td>0.274067</td>\n",
       "      <td>2.371919</td>\n",
       "      <td>0.484546</td>\n",
       "    </tr>\n",
       "    <tr>\n",
       "      <th>3</th>\n",
       "      <td>1.153535</td>\n",
       "      <td>0.517494</td>\n",
       "      <td>3.092323</td>\n",
       "      <td>0.614450</td>\n",
       "      <td>3.092323</td>\n",
       "      <td>0.614450</td>\n",
       "      <td>3.092323</td>\n",
       "      <td>0.614450</td>\n",
       "      <td>3.185657</td>\n",
       "      <td>0.531000</td>\n",
       "      <td>3.092323</td>\n",
       "      <td>0.614450</td>\n",
       "    </tr>\n",
       "    <tr>\n",
       "      <th>4</th>\n",
       "      <td>2.202222</td>\n",
       "      <td>0.602965</td>\n",
       "      <td>2.202222</td>\n",
       "      <td>0.602965</td>\n",
       "      <td>2.202222</td>\n",
       "      <td>0.602965</td>\n",
       "      <td>2.746465</td>\n",
       "      <td>0.523317</td>\n",
       "      <td>2.202222</td>\n",
       "      <td>0.602965</td>\n",
       "      <td>0.000000</td>\n",
       "      <td>0.000000</td>\n",
       "    </tr>\n",
       "    <tr>\n",
       "      <th>5</th>\n",
       "      <td>2.479798</td>\n",
       "      <td>0.788972</td>\n",
       "      <td>1.565051</td>\n",
       "      <td>0.815203</td>\n",
       "      <td>1.525455</td>\n",
       "      <td>0.821474</td>\n",
       "      <td>1.118990</td>\n",
       "      <td>0.874627</td>\n",
       "      <td>3.161414</td>\n",
       "      <td>0.551062</td>\n",
       "      <td>3.161414</td>\n",
       "      <td>0.551062</td>\n",
       "    </tr>\n",
       "    <tr>\n",
       "      <th>6</th>\n",
       "      <td>1.616970</td>\n",
       "      <td>0.658857</td>\n",
       "      <td>1.186465</td>\n",
       "      <td>0.698051</td>\n",
       "      <td>1.186465</td>\n",
       "      <td>0.698051</td>\n",
       "      <td>1.186465</td>\n",
       "      <td>0.698051</td>\n",
       "      <td>2.543232</td>\n",
       "      <td>0.513911</td>\n",
       "      <td>1.671717</td>\n",
       "      <td>0.684507</td>\n",
       "    </tr>\n",
       "    <tr>\n",
       "      <th>7</th>\n",
       "      <td>2.671515</td>\n",
       "      <td>0.548212</td>\n",
       "      <td>2.646465</td>\n",
       "      <td>0.568679</td>\n",
       "      <td>2.671515</td>\n",
       "      <td>0.548212</td>\n",
       "      <td>2.671515</td>\n",
       "      <td>0.548212</td>\n",
       "      <td>2.296768</td>\n",
       "      <td>0.562046</td>\n",
       "      <td>0.000000</td>\n",
       "      <td>0.000000</td>\n",
       "    </tr>\n",
       "    <tr>\n",
       "      <th>8</th>\n",
       "      <td>1.055556</td>\n",
       "      <td>0.862869</td>\n",
       "      <td>2.156566</td>\n",
       "      <td>0.696624</td>\n",
       "      <td>2.156566</td>\n",
       "      <td>0.696624</td>\n",
       "      <td>2.156566</td>\n",
       "      <td>0.696624</td>\n",
       "      <td>2.156566</td>\n",
       "      <td>0.696624</td>\n",
       "      <td>2.156566</td>\n",
       "      <td>0.696624</td>\n",
       "    </tr>\n",
       "    <tr>\n",
       "      <th>9</th>\n",
       "      <td>3.440606</td>\n",
       "      <td>0.318622</td>\n",
       "      <td>3.440606</td>\n",
       "      <td>0.318622</td>\n",
       "      <td>3.440606</td>\n",
       "      <td>0.318622</td>\n",
       "      <td>3.578788</td>\n",
       "      <td>0.251252</td>\n",
       "      <td>3.461616</td>\n",
       "      <td>0.307474</td>\n",
       "      <td>0.000000</td>\n",
       "      <td>0.000000</td>\n",
       "    </tr>\n",
       "  </tbody>\n",
       "</table>\n",
       "</div>"
      ],
      "text/plain": [
       "         0         1         2         3         4         5         6   \\\n",
       "0  1.464040  0.921543  1.086263  0.938462  1.086263  0.938462  1.086263   \n",
       "1  2.910303  0.743123  2.910303  0.743123  2.910303  0.743123  2.910303   \n",
       "2  2.371919  0.484546  2.371919  0.484546  2.371919  0.484546  2.371919   \n",
       "3  1.153535  0.517494  3.092323  0.614450  3.092323  0.614450  3.092323   \n",
       "4  2.202222  0.602965  2.202222  0.602965  2.202222  0.602965  2.746465   \n",
       "5  2.479798  0.788972  1.565051  0.815203  1.525455  0.821474  1.118990   \n",
       "6  1.616970  0.658857  1.186465  0.698051  1.186465  0.698051  1.186465   \n",
       "7  2.671515  0.548212  2.646465  0.568679  2.671515  0.548212  2.671515   \n",
       "8  1.055556  0.862869  2.156566  0.696624  2.156566  0.696624  2.156566   \n",
       "9  3.440606  0.318622  3.440606  0.318622  3.440606  0.318622  3.578788   \n",
       "\n",
       "         7         8         9         10        11  \n",
       "0  0.938462  1.605657  0.817120  1.464040  0.921543  \n",
       "1  0.743123  2.910303  0.743123  2.910303  0.743123  \n",
       "2  0.484546  3.607879  0.274067  2.371919  0.484546  \n",
       "3  0.614450  3.185657  0.531000  3.092323  0.614450  \n",
       "4  0.523317  2.202222  0.602965  0.000000  0.000000  \n",
       "5  0.874627  3.161414  0.551062  3.161414  0.551062  \n",
       "6  0.698051  2.543232  0.513911  1.671717  0.684507  \n",
       "7  0.548212  2.296768  0.562046  0.000000  0.000000  \n",
       "8  0.696624  2.156566  0.696624  2.156566  0.696624  \n",
       "9  0.251252  3.461616  0.307474  0.000000  0.000000  "
      ]
     },
     "execution_count": 3,
     "metadata": {},
     "output_type": "execute_result"
    }
   ],
   "source": [
    "df \n",
    "# This contains data for 10 datasets as rows and 6 algorithms and 2 clustering comparing metrics (6*2) as columns. "
   ]
  },
  {
   "cell_type": "code",
   "execution_count": 5,
   "metadata": {},
   "outputs": [
    {
     "data": {
      "text/plain": [
       "[Text(0.5, 0, 'Different Clustering Algorihms\\n[0]:Affinity Propagation Clustering,[2]:Agglomerative Clustering, [4]:Birch Clustering,\\n [6]:KMeans Clustering ,[8]:KMedoids Clustering and [10]:Spectral Clustering'),\n",
       " Text(0, 0.5, 'Value of Normalized Pairwise Distance')]"
      ]
     },
     "execution_count": 5,
     "metadata": {},
     "output_type": "execute_result"
    },
    {
     "data": {
      "image/png": "[encoded data removed]",
      "text/plain": [
       "<Figure size 432x288 with 1 Axes>"
      ]
     },
     "metadata": {
      "needs_background": "light"
     },
     "output_type": "display_data"
    }
   ],
   "source": [
    "import seaborn as sns\n",
    "import matplotlib.pyplot as plt\n",
    "ax = sns.boxplot(data=df.replace(0,np.nan)[[0,2,4,6,8,10]])\n",
    "ax=sns.swarmplot(data=df.replace(0,np.nan)[[0,2,4,6,8,10]],color=\".25\")\n",
    "ax.set(xlabel = 'Different Clustering Algorihms\\n[0]:Affinity Propagation Clustering,[2]:Agglomerative Clustering, [4]:Birch Clustering,\\n [6]:KMeans Clustering ,[8]:KMedoids Clustering and [10]:Spectral Clustering', ylabel = 'Value of Normalized Pairwise Distance', )\n"
   ]
  },
  {
   "cell_type": "code",
   "execution_count": 6,
   "metadata": {},
   "outputs": [
    {
     "data": {
      "text/plain": [
       "[Text(0.5, 0, 'Different Clustering Algorihms\\n[1]:Affinity Propagation Clustering,[3]:Agglomerative Clustering, [5]:Birch Clustering,\\n [7]:KMeans Clustering ,[9]:KMedoids Clustering and [11]:Spectral Clustering'),\n",
       " Text(0, 0.5, 'Value of Adjusted Rand Index')]"
      ]
     },
     "execution_count": 6,
     "metadata": {},
     "output_type": "execute_result"
    },
    {
     "data": {
      "image/png": "[encoded data removed]",
      "text/plain": [
       "<Figure size 432x288 with 1 Axes>"
      ]
     },
     "metadata": {
      "needs_background": "light"
     },
     "output_type": "display_data"
    }
   ],
   "source": [
    "import seaborn as sns\n",
    "ax = sns.boxplot(data=df.replace(0,np.nan)[[1,3,5,7,9,11]])\n",
    "ax=sns.swarmplot(data=df.replace(0,np.nan)[[1,3,5,7,9,11]],color=\".25\")\n",
    "ax.set(xlabel = 'Different Clustering Algorihms\\n[1]:Affinity Propagation Clustering,[3]:Agglomerative Clustering, [5]:Birch Clustering,\\n [7]:KMeans Clustering ,[9]:KMedoids Clustering and [11]:Spectral Clustering', ylabel = 'Value of Adjusted Rand Index')"
   ]
  },
  {
   "cell_type": "code",
   "execution_count": 7,
   "metadata": {},
   "outputs": [],
   "source": [
    "df2=pd.read_csv('/home/deepank/Downloads/Prof_Hamim/Convertor_project/Code/result_m_to_c.txt',header=None)"
   ]
  },
  {
   "cell_type": "code",
   "execution_count": 8,
   "metadata": {},
   "outputs": [
    {
     "data": {
      "text/html": [
       "<div>\n",
       "<style scoped>\n",
       "    .dataframe tbody tr th:only-of-type {\n",
       "        vertical-align: middle;\n",
       "    }\n",
       "\n",
       "    .dataframe tbody tr th {\n",
       "        vertical-align: top;\n",
       "    }\n",
       "\n",
       "    .dataframe thead th {\n",
       "        text-align: right;\n",
       "    }\n",
       "</style>\n",
       "<table border=\"1\" class=\"dataframe\">\n",
       "  <thead>\n",
       "    <tr style=\"text-align: right;\">\n",
       "      <th></th>\n",
       "      <th>0</th>\n",
       "      <th>1</th>\n",
       "      <th>2</th>\n",
       "      <th>3</th>\n",
       "      <th>4</th>\n",
       "      <th>5</th>\n",
       "      <th>6</th>\n",
       "      <th>7</th>\n",
       "      <th>8</th>\n",
       "      <th>9</th>\n",
       "      <th>10</th>\n",
       "      <th>11</th>\n",
       "    </tr>\n",
       "  </thead>\n",
       "  <tbody>\n",
       "    <tr>\n",
       "      <th>0</th>\n",
       "      <td>0.000000</td>\n",
       "      <td>0.000000</td>\n",
       "      <td>2.511921</td>\n",
       "      <td>0.394728</td>\n",
       "      <td>1.916316</td>\n",
       "      <td>0.558142</td>\n",
       "      <td>2.450678</td>\n",
       "      <td>0.406056</td>\n",
       "      <td>0.000000</td>\n",
       "      <td>0.000000</td>\n",
       "      <td>4.223001</td>\n",
       "      <td>0.004279</td>\n",
       "    </tr>\n",
       "    <tr>\n",
       "      <th>1</th>\n",
       "      <td>0.590398</td>\n",
       "      <td>0.308358</td>\n",
       "      <td>3.678754</td>\n",
       "      <td>0.136521</td>\n",
       "      <td>2.191522</td>\n",
       "      <td>0.315633</td>\n",
       "      <td>3.738509</td>\n",
       "      <td>0.141753</td>\n",
       "      <td>0.506639</td>\n",
       "      <td>0.244382</td>\n",
       "      <td>4.452503</td>\n",
       "      <td>0.015236</td>\n",
       "    </tr>\n",
       "    <tr>\n",
       "      <th>2</th>\n",
       "      <td>0.028728</td>\n",
       "      <td>0.197207</td>\n",
       "      <td>2.214693</td>\n",
       "      <td>0.230046</td>\n",
       "      <td>2.338377</td>\n",
       "      <td>0.197605</td>\n",
       "      <td>2.044956</td>\n",
       "      <td>0.227857</td>\n",
       "      <td>0.000000</td>\n",
       "      <td>0.000000</td>\n",
       "      <td>4.379605</td>\n",
       "      <td>0.002239</td>\n",
       "    </tr>\n",
       "    <tr>\n",
       "      <th>3</th>\n",
       "      <td>0.000000</td>\n",
       "      <td>0.000000</td>\n",
       "      <td>3.701624</td>\n",
       "      <td>0.114573</td>\n",
       "      <td>3.287864</td>\n",
       "      <td>0.153370</td>\n",
       "      <td>3.691830</td>\n",
       "      <td>0.108447</td>\n",
       "      <td>2.094601</td>\n",
       "      <td>0.224333</td>\n",
       "      <td>3.917105</td>\n",
       "      <td>0.014533</td>\n",
       "    </tr>\n",
       "    <tr>\n",
       "      <th>4</th>\n",
       "      <td>1.775442</td>\n",
       "      <td>0.288457</td>\n",
       "      <td>4.386765</td>\n",
       "      <td>0.255249</td>\n",
       "      <td>3.505972</td>\n",
       "      <td>0.325497</td>\n",
       "      <td>4.276875</td>\n",
       "      <td>0.265292</td>\n",
       "      <td>1.765409</td>\n",
       "      <td>0.090549</td>\n",
       "      <td>4.001433</td>\n",
       "      <td>0.005353</td>\n",
       "    </tr>\n",
       "    <tr>\n",
       "      <th>5</th>\n",
       "      <td>0.000000</td>\n",
       "      <td>0.000000</td>\n",
       "      <td>4.421501</td>\n",
       "      <td>0.308241</td>\n",
       "      <td>4.415677</td>\n",
       "      <td>0.306028</td>\n",
       "      <td>4.472564</td>\n",
       "      <td>0.313848</td>\n",
       "      <td>0.000000</td>\n",
       "      <td>0.000000</td>\n",
       "      <td>4.359239</td>\n",
       "      <td>0.007773</td>\n",
       "    </tr>\n",
       "    <tr>\n",
       "      <th>6</th>\n",
       "      <td>2.594670</td>\n",
       "      <td>0.321208</td>\n",
       "      <td>4.552127</td>\n",
       "      <td>0.313094</td>\n",
       "      <td>4.047218</td>\n",
       "      <td>0.306817</td>\n",
       "      <td>4.707340</td>\n",
       "      <td>0.324567</td>\n",
       "      <td>1.342683</td>\n",
       "      <td>0.311058</td>\n",
       "      <td>4.387097</td>\n",
       "      <td>-0.001348</td>\n",
       "    </tr>\n",
       "    <tr>\n",
       "      <th>7</th>\n",
       "      <td>0.550725</td>\n",
       "      <td>0.443492</td>\n",
       "      <td>0.496026</td>\n",
       "      <td>0.414530</td>\n",
       "      <td>0.722300</td>\n",
       "      <td>0.425944</td>\n",
       "      <td>1.070594</td>\n",
       "      <td>0.294154</td>\n",
       "      <td>0.654511</td>\n",
       "      <td>0.432752</td>\n",
       "      <td>4.259467</td>\n",
       "      <td>-0.000393</td>\n",
       "    </tr>\n",
       "    <tr>\n",
       "      <th>8</th>\n",
       "      <td>0.000000</td>\n",
       "      <td>0.000000</td>\n",
       "      <td>4.959327</td>\n",
       "      <td>0.087106</td>\n",
       "      <td>4.751753</td>\n",
       "      <td>0.093836</td>\n",
       "      <td>4.868163</td>\n",
       "      <td>0.085229</td>\n",
       "      <td>0.000000</td>\n",
       "      <td>0.000000</td>\n",
       "      <td>2.633474</td>\n",
       "      <td>-0.010163</td>\n",
       "    </tr>\n",
       "    <tr>\n",
       "      <th>9</th>\n",
       "      <td>0.000000</td>\n",
       "      <td>0.000000</td>\n",
       "      <td>2.550056</td>\n",
       "      <td>0.395661</td>\n",
       "      <td>2.409854</td>\n",
       "      <td>0.035620</td>\n",
       "      <td>2.615454</td>\n",
       "      <td>0.393541</td>\n",
       "      <td>0.000000</td>\n",
       "      <td>0.000000</td>\n",
       "      <td>4.328331</td>\n",
       "      <td>-0.002942</td>\n",
       "    </tr>\n",
       "  </tbody>\n",
       "</table>\n",
       "</div>"
      ],
      "text/plain": [
       "         0         1         2         3         4         5         6   \\\n",
       "0  0.000000  0.000000  2.511921  0.394728  1.916316  0.558142  2.450678   \n",
       "1  0.590398  0.308358  3.678754  0.136521  2.191522  0.315633  3.738509   \n",
       "2  0.028728  0.197207  2.214693  0.230046  2.338377  0.197605  2.044956   \n",
       "3  0.000000  0.000000  3.701624  0.114573  3.287864  0.153370  3.691830   \n",
       "4  1.775442  0.288457  4.386765  0.255249  3.505972  0.325497  4.276875   \n",
       "5  0.000000  0.000000  4.421501  0.308241  4.415677  0.306028  4.472564   \n",
       "6  2.594670  0.321208  4.552127  0.313094  4.047218  0.306817  4.707340   \n",
       "7  0.550725  0.443492  0.496026  0.414530  0.722300  0.425944  1.070594   \n",
       "8  0.000000  0.000000  4.959327  0.087106  4.751753  0.093836  4.868163   \n",
       "9  0.000000  0.000000  2.550056  0.395661  2.409854  0.035620  2.615454   \n",
       "\n",
       "         7         8         9         10        11  \n",
       "0  0.406056  0.000000  0.000000  4.223001  0.004279  \n",
       "1  0.141753  0.506639  0.244382  4.452503  0.015236  \n",
       "2  0.227857  0.000000  0.000000  4.379605  0.002239  \n",
       "3  0.108447  2.094601  0.224333  3.917105  0.014533  \n",
       "4  0.265292  1.765409  0.090549  4.001433  0.005353  \n",
       "5  0.313848  0.000000  0.000000  4.359239  0.007773  \n",
       "6  0.324567  1.342683  0.311058  4.387097 -0.001348  \n",
       "7  0.294154  0.654511  0.432752  4.259467 -0.000393  \n",
       "8  0.085229  0.000000  0.000000  2.633474 -0.010163  \n",
       "9  0.393541  0.000000  0.000000  4.328331 -0.002942  "
      ]
     },
     "execution_count": 8,
     "metadata": {},
     "output_type": "execute_result"
    }
   ],
   "source": [
    "df2\n",
    "# This contains data for 10 datasets as rows and 6 algorithms and 2 clustering comparing metrics (6*2) as columns. "
   ]
  },
  {
   "cell_type": "code",
   "execution_count": 9,
   "metadata": {},
   "outputs": [
    {
     "data": {
      "text/plain": [
       "[Text(0.5, 0, 'Different Clustering Algorihms\\n[0]:Affinity Propagation Clustering,[2]:Agglomerative Clustering, [4]:Birch Clustering,\\n [6]:KMeans Clustering ,[8]:KMedoids Clustering and [10]:Spectral Clustering'),\n",
       " Text(0, 0.5, 'Value of Normalized Pairwise Ditance')]"
      ]
     },
     "execution_count": 9,
     "metadata": {},
     "output_type": "execute_result"
    },
    {
     "data": {
      "image/png": "[encoded data removed]",
      "text/plain": [
       "<Figure size 432x288 with 1 Axes>"
      ]
     },
     "metadata": {
      "needs_background": "light"
     },
     "output_type": "display_data"
    }
   ],
   "source": [
    "import seaborn as sns\n",
    "ax = sns.boxplot(data=df2.replace(0,np.nan)[[0,2,4,6,8,10]])\n",
    "ax=sns.swarmplot(data=df2.replace(0,np.nan)[[0,2,4,6,8,10]],color=\".25\")\n",
    "ax.set(xlabel = 'Different Clustering Algorihms\\n[0]:Affinity Propagation Clustering,[2]:Agglomerative Clustering, [4]:Birch Clustering,\\n [6]:KMeans Clustering ,[8]:KMedoids Clustering and [10]:Spectral Clustering', ylabel = 'Value of Normalized Pairwise Ditance')"
   ]
  },
  {
   "cell_type": "code",
   "execution_count": 10,
   "metadata": {},
   "outputs": [
    {
     "data": {
      "text/plain": [
       "[Text(0.5, 0, 'Different Clustering Algorihms\\n[1]:Affinity Propagation Clustering,[3]:Agglomerative Clustering, [5]:Birch Clustering,\\n [7]:KMeans Clustering ,[9]:KMedoids Clustering and [11]:Spectral Clustering'),\n",
       " Text(0, 0.5, 'Value of Adjusted Rand Index.')]"
      ]
     },
     "execution_count": 10,
     "metadata": {},
     "output_type": "execute_result"
    },
    {
     "data": {
      "image/png": "[encoded data removed]",
      "text/plain": [
       "<Figure size 432x288 with 1 Axes>"
      ]
     },
     "metadata": {
      "needs_background": "light"
     },
     "output_type": "display_data"
    }
   ],
   "source": [
    "import seaborn as sns\n",
    "ax = sns.boxplot(data=df2.replace(0,np.nan)[[1,3,5,7,9,11]])\n",
    "ax=sns.swarmplot(data=df2.replace(0,np.nan)[[1,3,5,7,9,11]],color=\".25\")\n",
    "ax.set(xlabel = 'Different Clustering Algorihms\\n[1]:Affinity Propagation Clustering,[3]:Agglomerative Clustering, [5]:Birch Clustering,\\n [7]:KMeans Clustering ,[9]:KMedoids Clustering and [11]:Spectral Clustering', ylabel = 'Value of Adjusted Rand Index.')"
   ]
  }
 ],
 "metadata": {
  "kernelspec": {
   "display_name": "Python 3",
   "language": "python",
   "name": "python3"
  },
  "language_info": {
   "codemirror_mode": {
    "name": "ipython",
    "version": 3
   },
   "file_extension": ".py",
   "mimetype": "text/x-python",
   "name": "python",
   "nbconvert_exporter": "python",
   "pygments_lexer": "ipython3",
   "version": "3.8.8"
  }
 },
 "nbformat": 4,
 "nbformat_minor": 4
}
